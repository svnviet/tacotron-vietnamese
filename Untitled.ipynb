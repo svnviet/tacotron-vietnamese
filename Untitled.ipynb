{
 "cells": [
  {
   "cell_type": "code",
   "execution_count": 1,
   "metadata": {},
   "outputs": [
    {
     "name": "stderr",
     "output_type": "stream",
     "text": [
      "WARNING:root:Limited tf.compat.v2.summary API due to missing TensorBoard installation.\n"
     ]
    },
    {
     "name": "stdout",
     "output_type": "stream",
     "text": [
      "Initialized Tacotron model. Dimensions: \n",
      "  embedding:               256\n",
      "  prenet out:              128\n",
      "  encoder out:             256\n",
      "  attention out:           256\n",
      "  concat attn & out:       512\n",
      "  decoder cell out:        256\n",
      "  decoder out (5 frames):  400\n",
      "  decoder out (1 frame):   80\n",
      "  postnet out:             256\n",
      "  linear out:              1025\n"
     ]
    },
    {
     "data": {
      "text/plain": [
       "array([ 0.0000000e+00,  5.5772255e-11,  4.0652637e-10, ...,\n",
       "        5.7785475e-14, -1.9743271e-14, -6.6851245e-15], dtype=float32)"
      ]
     },
     "execution_count": 1,
     "metadata": {},
     "output_type": "execute_result"
    }
   ],
   "source": [
    "import io\n",
    "import numpy as np\n",
    "import tensorflow as tf\n",
    "\n",
    "tf.compat.v1.logging.set_verbosity(tf.compat.v1.logging.ERROR)\n",
    "\n",
    "from hparams import hparams\n",
    "from librosa import effects\n",
    "from models import create_model\n",
    "from text import text_to_sequence\n",
    "from util import audio\n",
    "import argparse\n",
    "import os\n",
    "import re\n",
    "from hparams import hparams, hparams_debug_string\n",
    "from synthesizer import Synthesizer\n",
    "from pydub import AudioSegment\n",
    "\n",
    "\n",
    "class Synthesizer:\n",
    "  def load(self, checkpoint_path, model_name='tacotron'):\n",
    "   # print('Constructing model: %s' % model_name)\n",
    "    inputs = tf.placeholder(tf.int32, [1, None], 'inputs')\n",
    "    input_lengths = tf.placeholder(tf.int32, [1], 'input_lengths')\n",
    "    with tf.variable_scope('model') as scope:\n",
    "      self.model = create_model(model_name, hparams)\n",
    "      self.model.initialize(inputs, input_lengths)\n",
    "      self.wav_output = audio.inv_spectrogram_tensorflow(self.model.linear_outputs[0])\n",
    "\n",
    "   # print('Loading checkpoint: %s' % checkpoint_path)\n",
    "    config = tf.ConfigProto()\n",
    "    config.gpu_options.allow_growth = True\n",
    "    self.session = tf.Session(config=config)\n",
    "    self.session.run(tf.global_variables_initializer())\n",
    "    saver = tf.train.Saver()\n",
    "    saver.restore(self.session, checkpoint_path)\n",
    "\n",
    "\n",
    "  def synthesize(self, text):\n",
    "    cleaner_names = [x.strip() for x in hparams.cleaners.split(',')]\n",
    "    seq = text_to_sequence(text, cleaner_names)\n",
    "    feed_dict = {\n",
    "      self.model.inputs: [np.asarray(seq, dtype=np.int32)],\n",
    "      self.model.input_lengths: np.asarray([len(seq)], dtype=np.int32)\n",
    "    }\n",
    "    wav = self.session.run(self.wav_output, feed_dict=feed_dict)\n",
    "    wav = audio.inv_preemphasis(wav)\n",
    "    wav = wav[:audio.find_endpoint(wav)]    \n",
    "    return wav\n",
    "# trả về dữ liệu âm thanh dưới dạng numpy.array\n",
    "\n",
    "text='xin chào'\n",
    "synth = Synthesizer()\n",
    "synth.load(r'D:\\tacotron_tensorflow-master\\tacotron\\testckpt\\model.ckpt-152000')\n",
    "base_path =r'D:\\tacotron_tensorflow-master\\tacotron\\testckpt\\e\\\\'\n",
    "synth.synthesize(text)\n",
    "\n",
    "\n",
    "\n",
    "\n",
    "\n",
    "\n"
   ]
  },
  {
   "cell_type": "code",
   "execution_count": 3,
   "metadata": {},
   "outputs": [],
   "source": [
    "A=synth.synthesize('xin chào')"
   ]
  },
  {
   "cell_type": "code",
   "execution_count": 2,
   "metadata": {},
   "outputs": [
    {
     "data": {
      "text/plain": [
       "numpy.ndarray"
      ]
     },
     "execution_count": 2,
     "metadata": {},
     "output_type": "execute_result"
    }
   ],
   "source": [
    "type(synth.synthesize(text))"
   ]
  },
  {
   "cell_type": "code",
   "execution_count": 17,
   "metadata": {},
   "outputs": [],
   "source": [
    "import scipy\n",
    "wav *= 32767 / max(0.01, np.max(np.abs(wav)))\n",
    "scipy.io.wavfile.write(r'D:\\tacotron_tensorflow-master\\tacotron\\hello.wav', hparams.sample_rate, wav.astype(np.int16))"
   ]
  },
  {
   "cell_type": "code",
   "execution_count": 18,
   "metadata": {},
   "outputs": [
    {
     "data": {
      "text/plain": [
       "250750"
      ]
     },
     "execution_count": 18,
     "metadata": {},
     "output_type": "execute_result"
    }
   ],
   "source": [
    "len(wav)"
   ]
  },
  {
   "cell_type": "code",
   "execution_count": 16,
   "metadata": {},
   "outputs": [
    {
     "data": {
      "text/plain": [
       "array([ 0.0000000e+00,  5.3589747e-06,  3.9061797e-05, ...,\n",
       "        5.5524185e-09, -1.8970667e-09, -6.4235189e-10], dtype=float32)"
      ]
     },
     "execution_count": 16,
     "metadata": {},
     "output_type": "execute_result"
    }
   ],
   "source": [
    "wav"
   ]
  },
  {
   "cell_type": "code",
   "execution_count": null,
   "metadata": {},
   "outputs": [],
   "source": []
  },
  {
   "cell_type": "code",
   "execution_count": 4,
   "metadata": {},
   "outputs": [],
   "source": [
    "wav=synth.synthesize(text)"
   ]
  },
  {
   "cell_type": "code",
   "execution_count": 6,
   "metadata": {},
   "outputs": [
    {
     "ename": "TypeError",
     "evalue": "write() argument must be str, not numpy.ndarray",
     "output_type": "error",
     "traceback": [
      "\u001B[1;31m---------------------------------------------------------------------------\u001B[0m",
      "\u001B[1;31mTypeError\u001B[0m                                 Traceback (most recent call last)",
      "\u001B[1;32m<ipython-input-6-1bd76dcd0a31>\u001B[0m in \u001B[0;36m<module>\u001B[1;34m\u001B[0m\n\u001B[0;32m      1\u001B[0m \u001B[1;32mwith\u001B[0m \u001B[0mopen\u001B[0m\u001B[1;33m(\u001B[0m\u001B[1;34m'hello.wav'\u001B[0m\u001B[1;33m,\u001B[0m\u001B[1;34m'w'\u001B[0m\u001B[1;33m)\u001B[0m \u001B[1;32mas\u001B[0m \u001B[0mf\u001B[0m\u001B[1;33m:\u001B[0m\u001B[1;33m\u001B[0m\u001B[0m\n\u001B[1;32m----> 2\u001B[1;33m     \u001B[0mf\u001B[0m\u001B[1;33m.\u001B[0m\u001B[0mwrite\u001B[0m\u001B[1;33m(\u001B[0m\u001B[0mwav\u001B[0m\u001B[1;33m)\u001B[0m\u001B[1;33m\u001B[0m\u001B[0m\n\u001B[0m",
      "\u001B[1;31mTypeError\u001B[0m: write() argument must be str, not numpy.ndarray"
     ]
    }
   ],
   "source": [
    "with open('hello.wav','w') as f:\n",
    "    f.write(wav)"
   ]
  },
  {
   "cell_type": "code",
   "execution_count": null,
   "metadata": {},
   "outputs": [],
   "source": []
  }
 ],
 "metadata": {
  "kernelspec": {
   "display_name": "Python 3",
   "language": "python",
   "name": "python3"
  },
  "language_info": {
   "codemirror_mode": {
    "name": "ipython",
    "version": 3
   },
   "file_extension": ".py",
   "mimetype": "text/x-python",
   "name": "python",
   "nbconvert_exporter": "python",
   "pygments_lexer": "ipython3",
   "version": "3.6.1"
  }
 },
 "nbformat": 4,
 "nbformat_minor": 4
}